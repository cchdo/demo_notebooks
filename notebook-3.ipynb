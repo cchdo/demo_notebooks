{
 "cells": [
  {
   "cell_type": "markdown",
   "id": "cathedral-candy",
   "metadata": {},
   "source": [
    "# Combine CTD and Bottle Data Files"
   ]
  },
  {
   "cell_type": "markdown",
   "id": "portuguese-smart",
   "metadata": {},
   "source": [
    "### In this notebook we will plot data from a bottle file, collected on a repeat hydrographic section part of the GO-SHIP repeat hydrographic program.\n",
    "\n",
    "All hydrographic data part of this progam are publicly avaiable and are archived at [CCHDO](https://cchdo.ucsd.edu/). The section analyzed here (P18) is a meridonal transect in the eastern Pacific roughly along the 103$^o$W meridian. Section data is available at https://cchdo.ucsd.edu/cruise/33RO20161119. The netCDF file for the bottle data can be downloaded [here](https://cchdo.ucsd.edu/data/38327/33RO20161119_nc_hyd.zip)."
   ]
  },
  {
   "cell_type": "code",
   "execution_count": 1,
   "id": "massive-hazard",
   "metadata": {},
   "outputs": [],
   "source": [
    "import sys\n",
    "sys.path.append(\"/home/rlele/.conda/envs/nasa_grace_swp/lib/python3.8/site-packages/\")\n",
    "sys.path.append(\"/home/rlele/.conda/envs/sklearn_stuff/lib/python3.8/site-packages\")\n",
    "sys.path.append(\"/home/rlele/.conda/envs/cartopy-env/lib/python3.8/site-packages\")\n",
    "import xarray as xr\n",
    "import pandas as pd\n",
    "import numpy as np\n",
    "import datetime\n",
    "import matplotlib.pyplot as plt\n",
    "import matplotlib.cm as cm\n",
    "import cartopy.crs as ccrs\n",
    "import gsw\n",
    "%matplotlib inline\n",
    "\n",
    "plt.rcParams[\"font.size\"] = 16\n",
    "plt.rcParams[\"figure.facecolor\"] = 'white'\n",
    "import warnings\n",
    "warnings.filterwarnings('ignore')"
   ]
  },
  {
   "cell_type": "code",
   "execution_count": 2,
   "id": "engaging-merit",
   "metadata": {},
   "outputs": [],
   "source": [
    "# Load netCDF file for ctd and bottle files locally as xarray Dataset\n",
    "ds_ctd = xr.load_dataset('p18.nc')\n",
    "ds_btl = xr.load_dataset('p18_btl.nc')"
   ]
  },
  {
   "cell_type": "code",
   "execution_count": null,
   "id": "correct-federal",
   "metadata": {},
   "outputs": [],
   "source": []
  }
 ],
 "metadata": {
  "kernelspec": {
   "display_name": "Python 3",
   "language": "python",
   "name": "python3"
  },
  "language_info": {
   "codemirror_mode": {
    "name": "ipython",
    "version": 3
   },
   "file_extension": ".py",
   "mimetype": "text/x-python",
   "name": "python",
   "nbconvert_exporter": "python",
   "pygments_lexer": "ipython3",
   "version": "3.8.6"
  }
 },
 "nbformat": 4,
 "nbformat_minor": 5
}
